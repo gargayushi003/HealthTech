{
 "cells": [
  {
   "cell_type": "code",
   "execution_count": 1,
   "id": "1e7b5fe6",
   "metadata": {},
   "outputs": [
    {
     "name": "stdout",
     "output_type": "stream",
     "text": [
      "Connected to MongoDB successfully.\n"
     ]
    }
   ],
   "source": [
    "import pymongo\n",
    "from datetime import datetime\n",
    "client = pymongo.MongoClient('mongodb://localhost:27017/')\n",
    "db = client['physician_checkup']\n",
    "try:\n",
    "    collection = db['physicians']\n",
    "    print('Connected to MongoDB successfully.')\n",
    "except pymongo.errors.ConnectionFailure:\n",
    "    print('Could not connect to MongoDB.')"
   ]
  },
  {
   "cell_type": "code",
   "execution_count": 2,
   "id": "07910d5d",
   "metadata": {},
   "outputs": [],
   "source": [
    "physician_data = []\n",
    "\n",
    "for physician in collection.find():\n",
    "    # Extract relevant fields and convert to the desired format\n",
    "    physician_info = {\n",
    "        \"UID\": physician[\"UID\"],\n",
    "        \"name\": physician[\"name\"],\n",
    "        \"specialization\": physician[\"specialization\"],\n",
    "        \"working_hours_start\": physician[\"SOD\"],\n",
    "        \"working_hours_end\": physician[\"EOD\"],\n",
    "        \"week_offs\": [day.strip() for day in physician[\"Holiday\"].split(\",\")],\n",
    "        \"availability_label\": physician[\"Available\"]\n",
    "    }\n",
    "    \n",
    "    physician_data.append(physician_info)\n",
    "    "
   ]
  },
  {
   "cell_type": "code",
   "execution_count": 3,
   "id": "2f0040b2",
   "metadata": {},
   "outputs": [
    {
     "name": "stdout",
     "output_type": "stream",
     "text": [
      "[{'UID': 123, 'name': 'Hrishit', 'specialization': 'Surgeon', 'working_hours_start': '9:00', 'working_hours_end': '14:00', 'week_offs': ['Tuesday'], 'availability_label': True}, {'UID': 1234, 'name': 'Vishal', 'specialization': 'Dentist', 'working_hours_start': '10:00', 'working_hours_end': '16:00', 'week_offs': ['Sunday'], 'availability_label': True}, {'UID': 1001, 'name': 'John Doe', 'specialization': 'Cardiologist', 'working_hours_start': '08:00', 'working_hours_end': '16:00', 'week_offs': ['Saturday', 'Sunday'], 'availability_label': True}, {'UID': 1002, 'name': 'Jane Smith', 'specialization': 'Pediatrician', 'working_hours_start': '09:00', 'working_hours_end': '17:00', 'week_offs': ['Sunday'], 'availability_label': True}, {'UID': 1003, 'name': 'Robert Johnson', 'specialization': 'Dermatologist', 'working_hours_start': '10:00', 'working_hours_end': '18:00', 'week_offs': ['Thursday'], 'availability_label': False}, {'UID': 1004, 'name': 'Emily Wilson', 'specialization': 'Orthopedic Surgeon', 'working_hours_start': '07:30', 'working_hours_end': '15:30', 'week_offs': ['Saturday'], 'availability_label': True}, {'UID': 1005, 'name': 'Michael Brown', 'specialization': 'Gastroenterologist', 'working_hours_start': '08:30', 'working_hours_end': '16:30', 'week_offs': ['Friday'], 'availability_label': False}, {'UID': 1006, 'name': 'Olivia Lee', 'specialization': 'Neurologist', 'working_hours_start': '09:30', 'working_hours_end': '17:30', 'week_offs': ['Monday', 'Wednesday'], 'availability_label': True}, {'UID': 1007, 'name': 'William Taylor', 'specialization': 'Ophthalmologist', 'working_hours_start': '08:00', 'working_hours_end': '16:00', 'week_offs': ['Sunday'], 'availability_label': True}, {'UID': 1008, 'name': 'Ava Anderson', 'specialization': 'ENT Specialist', 'working_hours_start': '09:30', 'working_hours_end': '17:30', 'week_offs': ['Saturday'], 'availability_label': False}, {'UID': 1009, 'name': 'James Martinez', 'specialization': 'Urologist', 'working_hours_start': '08:30', 'working_hours_end': '16:30', 'week_offs': ['Tuesday'], 'availability_label': True}, {'UID': 1010, 'name': 'Sophia Thomas', 'specialization': 'Psychiatrist', 'working_hours_start': '10:00', 'working_hours_end': '18:00', 'week_offs': ['Thursday'], 'availability_label': True}, {'UID': 1011, 'name': 'Benjamin Harris', 'specialization': 'Dentist', 'working_hours_start': '09:00', 'working_hours_end': '17:00', 'week_offs': ['Sunday'], 'availability_label': True}, {'UID': 1012, 'name': 'Mia Clark', 'specialization': 'Rheumatologist', 'working_hours_start': '08:00', 'working_hours_end': '16:00', 'week_offs': ['Friday'], 'availability_label': True}, {'UID': 1013, 'name': 'Elijah Young', 'specialization': 'Cardiologist', 'working_hours_start': '07:30', 'working_hours_end': '15:30', 'week_offs': ['Saturday'], 'availability_label': True}, {'UID': 1014, 'name': 'Charlotte Adams', 'specialization': 'Pediatrician', 'working_hours_start': '09:30', 'working_hours_end': '17:30', 'week_offs': ['Monday', 'Wednesday'], 'availability_label': False}, {'UID': 1015, 'name': 'Daniel Walker', 'specialization': 'Dermatologist', 'working_hours_start': '08:00', 'working_hours_end': '16:00', 'week_offs': ['Sunday'], 'availability_label': True}, {'UID': 1016, 'name': 'Amelia Turner', 'specialization': 'Orthopedic Surgeon', 'working_hours_start': '09:30', 'working_hours_end': '17:30', 'week_offs': ['Saturday'], 'availability_label': True}, {'UID': 1017, 'name': 'Matthew Lewis', 'specialization': 'Gastroenterologist', 'working_hours_start': '08:30', 'working_hours_end': '16:30', 'week_offs': ['Tuesday'], 'availability_label': False}, {'UID': 1018, 'name': 'Ava Parker', 'specialization': 'Neurologist', 'working_hours_start': '10:00', 'working_hours_end': '18:00', 'week_offs': ['Thursday'], 'availability_label': True}]\n"
     ]
    }
   ],
   "source": [
    "print(physician_data)"
   ]
  },
  {
   "cell_type": "code",
   "execution_count": 4,
   "id": "a1558e20",
   "metadata": {},
   "outputs": [],
   "source": [
    "import json\n",
    "import pulp\n",
    "from datetime import datetime\n",
    "import pandas as pd"
   ]
  },
  {
   "cell_type": "code",
   "execution_count": 5,
   "id": "a4fb8f05",
   "metadata": {},
   "outputs": [],
   "source": [
    "df = pd.DataFrame(physician_data)"
   ]
  },
  {
   "cell_type": "code",
   "execution_count": 6,
   "id": "7866cc3c",
   "metadata": {},
   "outputs": [],
   "source": [
    "def time_to_seconds(time_str):\n",
    "    time_obj = datetime.strptime(time_str, '%H:%M')\n",
    "    return (time_obj - datetime(time_obj.year, time_obj.month, time_obj.day)).total_seconds()\n",
    "\n",
    "# Apply the function to the DataFrame\n",
    "df['working_hours_start'] = df['working_hours_start'].apply(time_to_seconds)\n",
    "df['working_hours_end'] = df['working_hours_end'].apply(time_to_seconds)"
   ]
  },
  {
   "cell_type": "code",
   "execution_count": 7,
   "id": "c9a83019",
   "metadata": {},
   "outputs": [],
   "source": [
    "from sklearn.model_selection import train_test_split\n",
    "from sklearn.preprocessing import StandardScaler\n",
    "from sklearn.ensemble import RandomForestClassifier\n",
    "from sklearn.metrics import accuracy_score"
   ]
  },
  {
   "cell_type": "code",
   "execution_count": 8,
   "id": "40bb3f74",
   "metadata": {},
   "outputs": [],
   "source": [
    "df = df.drop(columns=['name'])\n",
    "df = df.drop(columns=['UID'])"
   ]
  },
  {
   "cell_type": "code",
   "execution_count": 9,
   "id": "1fcd3d3b",
   "metadata": {},
   "outputs": [],
   "source": [
    "# Features (X): Use relevant columns except for \"availability_label\"\n",
    "X = df.drop(\"availability_label\", axis=1)\n",
    "\n",
    "# Label (y): \"availability_label\" column\n",
    "y = df[\"availability_label\"]\n"
   ]
  },
  {
   "cell_type": "code",
   "execution_count": 10,
   "id": "ef46c3d1",
   "metadata": {},
   "outputs": [],
   "source": [
    "X = pd.get_dummies(X, columns=['specialization'], prefix=['specialization'])\n"
   ]
  },
  {
   "cell_type": "code",
   "execution_count": 11,
   "id": "2dea074f",
   "metadata": {},
   "outputs": [],
   "source": [
    "days_of_week = ['Monday', 'Tuesday', 'Wednesday', 'Thursday', 'Friday', 'Saturday', 'Sunday']\n",
    "\n",
    "# Create columns for each day and set them to True by default\n",
    "for day in days_of_week:\n",
    "    X[day] = True\n",
    "\n",
    "\n"
   ]
  },
  {
   "cell_type": "code",
   "execution_count": 12,
   "id": "99df9fb4",
   "metadata": {},
   "outputs": [],
   "source": [
    "for index, row in X.iterrows():\n",
    "    for day in days_of_week:\n",
    "        if day in row['week_offs']:\n",
    "            X.at[index, day] = False\n",
    "\n",
    "# Drop the original 'week_offs' column if needed\n",
    "X.drop(columns=['week_offs'], inplace=True)"
   ]
  },
  {
   "cell_type": "code",
   "execution_count": 13,
   "id": "98ec80df",
   "metadata": {},
   "outputs": [
    {
     "name": "stdout",
     "output_type": "stream",
     "text": [
      "    working_hours_start  working_hours_end  specialization_Cardiologist  \\\n",
      "0               32400.0            50400.0                        False   \n",
      "1               36000.0            57600.0                        False   \n",
      "2               28800.0            57600.0                         True   \n",
      "3               32400.0            61200.0                        False   \n",
      "4               36000.0            64800.0                        False   \n",
      "5               27000.0            55800.0                        False   \n",
      "6               30600.0            59400.0                        False   \n",
      "7               34200.0            63000.0                        False   \n",
      "8               28800.0            57600.0                        False   \n",
      "9               34200.0            63000.0                        False   \n",
      "10              30600.0            59400.0                        False   \n",
      "11              36000.0            64800.0                        False   \n",
      "12              32400.0            61200.0                        False   \n",
      "13              28800.0            57600.0                        False   \n",
      "14              27000.0            55800.0                         True   \n",
      "15              34200.0            63000.0                        False   \n",
      "16              28800.0            57600.0                        False   \n",
      "17              34200.0            63000.0                        False   \n",
      "18              30600.0            59400.0                        False   \n",
      "19              36000.0            64800.0                        False   \n",
      "\n",
      "    specialization_Dentist  specialization_Dermatologist  \\\n",
      "0                    False                         False   \n",
      "1                     True                         False   \n",
      "2                    False                         False   \n",
      "3                    False                         False   \n",
      "4                    False                          True   \n",
      "5                    False                         False   \n",
      "6                    False                         False   \n",
      "7                    False                         False   \n",
      "8                    False                         False   \n",
      "9                    False                         False   \n",
      "10                   False                         False   \n",
      "11                   False                         False   \n",
      "12                    True                         False   \n",
      "13                   False                         False   \n",
      "14                   False                         False   \n",
      "15                   False                         False   \n",
      "16                   False                          True   \n",
      "17                   False                         False   \n",
      "18                   False                         False   \n",
      "19                   False                         False   \n",
      "\n",
      "    specialization_ENT Specialist  specialization_Gastroenterologist  \\\n",
      "0                           False                              False   \n",
      "1                           False                              False   \n",
      "2                           False                              False   \n",
      "3                           False                              False   \n",
      "4                           False                              False   \n",
      "5                           False                              False   \n",
      "6                           False                               True   \n",
      "7                           False                              False   \n",
      "8                           False                              False   \n",
      "9                            True                              False   \n",
      "10                          False                              False   \n",
      "11                          False                              False   \n",
      "12                          False                              False   \n",
      "13                          False                              False   \n",
      "14                          False                              False   \n",
      "15                          False                              False   \n",
      "16                          False                              False   \n",
      "17                          False                              False   \n",
      "18                          False                               True   \n",
      "19                          False                              False   \n",
      "\n",
      "    specialization_Neurologist  specialization_Ophthalmologist  \\\n",
      "0                        False                           False   \n",
      "1                        False                           False   \n",
      "2                        False                           False   \n",
      "3                        False                           False   \n",
      "4                        False                           False   \n",
      "5                        False                           False   \n",
      "6                        False                           False   \n",
      "7                         True                           False   \n",
      "8                        False                            True   \n",
      "9                        False                           False   \n",
      "10                       False                           False   \n",
      "11                       False                           False   \n",
      "12                       False                           False   \n",
      "13                       False                           False   \n",
      "14                       False                           False   \n",
      "15                       False                           False   \n",
      "16                       False                           False   \n",
      "17                       False                           False   \n",
      "18                       False                           False   \n",
      "19                        True                           False   \n",
      "\n",
      "    specialization_Orthopedic Surgeon  ...  specialization_Rheumatologist  \\\n",
      "0                               False  ...                          False   \n",
      "1                               False  ...                          False   \n",
      "2                               False  ...                          False   \n",
      "3                               False  ...                          False   \n",
      "4                               False  ...                          False   \n",
      "5                                True  ...                          False   \n",
      "6                               False  ...                          False   \n",
      "7                               False  ...                          False   \n",
      "8                               False  ...                          False   \n",
      "9                               False  ...                          False   \n",
      "10                              False  ...                          False   \n",
      "11                              False  ...                          False   \n",
      "12                              False  ...                          False   \n",
      "13                              False  ...                           True   \n",
      "14                              False  ...                          False   \n",
      "15                              False  ...                          False   \n",
      "16                              False  ...                          False   \n",
      "17                               True  ...                          False   \n",
      "18                              False  ...                          False   \n",
      "19                              False  ...                          False   \n",
      "\n",
      "    specialization_Surgeon  specialization_Urologist  Monday  Tuesday  \\\n",
      "0                     True                     False    True    False   \n",
      "1                    False                     False    True     True   \n",
      "2                    False                     False    True     True   \n",
      "3                    False                     False    True     True   \n",
      "4                    False                     False    True     True   \n",
      "5                    False                     False    True     True   \n",
      "6                    False                     False    True     True   \n",
      "7                    False                     False   False     True   \n",
      "8                    False                     False    True     True   \n",
      "9                    False                     False    True     True   \n",
      "10                   False                      True    True    False   \n",
      "11                   False                     False    True     True   \n",
      "12                   False                     False    True     True   \n",
      "13                   False                     False    True     True   \n",
      "14                   False                     False    True     True   \n",
      "15                   False                     False   False     True   \n",
      "16                   False                     False    True     True   \n",
      "17                   False                     False    True     True   \n",
      "18                   False                     False    True    False   \n",
      "19                   False                     False    True     True   \n",
      "\n",
      "    Wednesday  Thursday  Friday  Saturday  Sunday  \n",
      "0        True      True    True      True    True  \n",
      "1        True      True    True      True   False  \n",
      "2        True      True    True     False   False  \n",
      "3        True      True    True      True   False  \n",
      "4        True     False    True      True    True  \n",
      "5        True      True    True     False    True  \n",
      "6        True      True   False      True    True  \n",
      "7       False      True    True      True    True  \n",
      "8        True      True    True      True   False  \n",
      "9        True      True    True     False    True  \n",
      "10       True      True    True      True    True  \n",
      "11       True     False    True      True    True  \n",
      "12       True      True    True      True   False  \n",
      "13       True      True   False      True    True  \n",
      "14       True      True    True     False    True  \n",
      "15      False      True    True      True    True  \n",
      "16       True      True    True      True   False  \n",
      "17       True      True    True     False    True  \n",
      "18       True      True    True      True    True  \n",
      "19       True     False    True      True    True  \n",
      "\n",
      "[20 rows x 22 columns]\n"
     ]
    }
   ],
   "source": [
    "print(X)"
   ]
  },
  {
   "cell_type": "code",
   "execution_count": 14,
   "id": "e573c4b8",
   "metadata": {},
   "outputs": [
    {
     "data": {
      "text/html": [
       "<style>#sk-container-id-1 {color: black;}#sk-container-id-1 pre{padding: 0;}#sk-container-id-1 div.sk-toggleable {background-color: white;}#sk-container-id-1 label.sk-toggleable__label {cursor: pointer;display: block;width: 100%;margin-bottom: 0;padding: 0.3em;box-sizing: border-box;text-align: center;}#sk-container-id-1 label.sk-toggleable__label-arrow:before {content: \"▸\";float: left;margin-right: 0.25em;color: #696969;}#sk-container-id-1 label.sk-toggleable__label-arrow:hover:before {color: black;}#sk-container-id-1 div.sk-estimator:hover label.sk-toggleable__label-arrow:before {color: black;}#sk-container-id-1 div.sk-toggleable__content {max-height: 0;max-width: 0;overflow: hidden;text-align: left;background-color: #f0f8ff;}#sk-container-id-1 div.sk-toggleable__content pre {margin: 0.2em;color: black;border-radius: 0.25em;background-color: #f0f8ff;}#sk-container-id-1 input.sk-toggleable__control:checked~div.sk-toggleable__content {max-height: 200px;max-width: 100%;overflow: auto;}#sk-container-id-1 input.sk-toggleable__control:checked~label.sk-toggleable__label-arrow:before {content: \"▾\";}#sk-container-id-1 div.sk-estimator input.sk-toggleable__control:checked~label.sk-toggleable__label {background-color: #d4ebff;}#sk-container-id-1 div.sk-label input.sk-toggleable__control:checked~label.sk-toggleable__label {background-color: #d4ebff;}#sk-container-id-1 input.sk-hidden--visually {border: 0;clip: rect(1px 1px 1px 1px);clip: rect(1px, 1px, 1px, 1px);height: 1px;margin: -1px;overflow: hidden;padding: 0;position: absolute;width: 1px;}#sk-container-id-1 div.sk-estimator {font-family: monospace;background-color: #f0f8ff;border: 1px dotted black;border-radius: 0.25em;box-sizing: border-box;margin-bottom: 0.5em;}#sk-container-id-1 div.sk-estimator:hover {background-color: #d4ebff;}#sk-container-id-1 div.sk-parallel-item::after {content: \"\";width: 100%;border-bottom: 1px solid gray;flex-grow: 1;}#sk-container-id-1 div.sk-label:hover label.sk-toggleable__label {background-color: #d4ebff;}#sk-container-id-1 div.sk-serial::before {content: \"\";position: absolute;border-left: 1px solid gray;box-sizing: border-box;top: 0;bottom: 0;left: 50%;z-index: 0;}#sk-container-id-1 div.sk-serial {display: flex;flex-direction: column;align-items: center;background-color: white;padding-right: 0.2em;padding-left: 0.2em;position: relative;}#sk-container-id-1 div.sk-item {position: relative;z-index: 1;}#sk-container-id-1 div.sk-parallel {display: flex;align-items: stretch;justify-content: center;background-color: white;position: relative;}#sk-container-id-1 div.sk-item::before, #sk-container-id-1 div.sk-parallel-item::before {content: \"\";position: absolute;border-left: 1px solid gray;box-sizing: border-box;top: 0;bottom: 0;left: 50%;z-index: -1;}#sk-container-id-1 div.sk-parallel-item {display: flex;flex-direction: column;z-index: 1;position: relative;background-color: white;}#sk-container-id-1 div.sk-parallel-item:first-child::after {align-self: flex-end;width: 50%;}#sk-container-id-1 div.sk-parallel-item:last-child::after {align-self: flex-start;width: 50%;}#sk-container-id-1 div.sk-parallel-item:only-child::after {width: 0;}#sk-container-id-1 div.sk-dashed-wrapped {border: 1px dashed gray;margin: 0 0.4em 0.5em 0.4em;box-sizing: border-box;padding-bottom: 0.4em;background-color: white;}#sk-container-id-1 div.sk-label label {font-family: monospace;font-weight: bold;display: inline-block;line-height: 1.2em;}#sk-container-id-1 div.sk-label-container {text-align: center;}#sk-container-id-1 div.sk-container {/* jupyter's `normalize.less` sets `[hidden] { display: none; }` but bootstrap.min.css set `[hidden] { display: none !important; }` so we also need the `!important` here to be able to override the default hidden behavior on the sphinx rendered scikit-learn.org. See: https://github.com/scikit-learn/scikit-learn/issues/21755 */display: inline-block !important;position: relative;}#sk-container-id-1 div.sk-text-repr-fallback {display: none;}</style><div id=\"sk-container-id-1\" class=\"sk-top-container\"><div class=\"sk-text-repr-fallback\"><pre>LogisticRegression()</pre><b>In a Jupyter environment, please rerun this cell to show the HTML representation or trust the notebook. <br />On GitHub, the HTML representation is unable to render, please try loading this page with nbviewer.org.</b></div><div class=\"sk-container\" hidden><div class=\"sk-item\"><div class=\"sk-estimator sk-toggleable\"><input class=\"sk-toggleable__control sk-hidden--visually\" id=\"sk-estimator-id-1\" type=\"checkbox\" checked><label for=\"sk-estimator-id-1\" class=\"sk-toggleable__label sk-toggleable__label-arrow\">LogisticRegression</label><div class=\"sk-toggleable__content\"><pre>LogisticRegression()</pre></div></div></div></div></div>"
      ],
      "text/plain": [
       "LogisticRegression()"
      ]
     },
     "execution_count": 14,
     "metadata": {},
     "output_type": "execute_result"
    }
   ],
   "source": [
    "from sklearn.linear_model import LogisticRegression\n",
    "\n",
    "model = LogisticRegression()\n",
    "model.fit(X, y)"
   ]
  },
  {
   "cell_type": "code",
   "execution_count": 15,
   "id": "9e415ee8",
   "metadata": {},
   "outputs": [],
   "source": [
    "patient_appointment_info = {\n",
    "    'day_of_week': 'Monday',        # Day of the week for the appointment\n",
    "    'working_hours_start': 32400.0,         # Start time in seconds since midnight\n",
    "    'working_hours_end': 50200.0,           # End time in seconds since midnight\n",
    "    'specialization': 'specialization_Surgeon',  # Example: Specialization requirement\n",
    "    # Add other specialization flags as needed\n",
    "}"
   ]
  },
  {
   "cell_type": "code",
   "execution_count": 16,
   "id": "47f3ff51",
   "metadata": {},
   "outputs": [],
   "source": [
    "pdf = pd.DataFrame([patient_appointment_info])"
   ]
  },
  {
   "cell_type": "code",
   "execution_count": 17,
   "id": "ce81575b",
   "metadata": {},
   "outputs": [],
   "source": [
    "spec = ['specialization_Cardiologist', 'specialization_Dentist', 'specialization_Dermatologist', 'specialization_ENT Specialist', 'specialization_Gastroenterologist', 'specialization_Neurologist', 'specialization_Ophthalmologist', 'specialization_Orthopedic Surgeon', 'specialization_Pediatrician', 'specialization_Psychiatrist', 'specialization_Rheumatologist', 'specialization_Surgeon', 'specialization_Urologist']\n",
    "\n",
    "# Create columns for each day and set them to True by default\n",
    "for column in spec:\n",
    "    pdf[column] = False\n"
   ]
  },
  {
   "cell_type": "code",
   "execution_count": 18,
   "id": "3918b0f4",
   "metadata": {},
   "outputs": [
    {
     "name": "stdout",
     "output_type": "stream",
     "text": [
      "  day_of_week  working_hours_start  working_hours_end  \\\n",
      "0      Monday              32400.0            50200.0   \n",
      "\n",
      "   specialization_Cardiologist  specialization_Dentist  \\\n",
      "0                        False                   False   \n",
      "\n",
      "   specialization_Dermatologist  specialization_ENT Specialist  \\\n",
      "0                         False                          False   \n",
      "\n",
      "   specialization_Gastroenterologist  specialization_Neurologist  \\\n",
      "0                              False                       False   \n",
      "\n",
      "   specialization_Ophthalmologist  specialization_Orthopedic Surgeon  \\\n",
      "0                           False                              False   \n",
      "\n",
      "   specialization_Pediatrician  specialization_Psychiatrist  \\\n",
      "0                        False                        False   \n",
      "\n",
      "   specialization_Rheumatologist  specialization_Surgeon  \\\n",
      "0                          False                    True   \n",
      "\n",
      "   specialization_Urologist  \n",
      "0                     False  \n"
     ]
    }
   ],
   "source": [
    "pdf[patient_appointment_info['specialization']] = True\n",
    "\n",
    "# Drop the 'specialization' column\n",
    "pdf.drop(columns=['specialization'], inplace=True)\n",
    "\n",
    "print(pdf)"
   ]
  },
  {
   "cell_type": "code",
   "execution_count": 19,
   "id": "cfd2ae11",
   "metadata": {},
   "outputs": [],
   "source": [
    "days_of_week_columns = [\n",
    "    'Monday', 'Tuesday', 'Wednesday', 'Thursday', 'Friday', 'Saturday', 'Sunday'\n",
    "]\n",
    "\n",
    "for column in days_of_week_columns:\n",
    "    pdf[column] = False\n",
    "\n",
    "# Set the specified day of the week flag to True\n",
    "pdf[patient_appointment_info['day_of_week']] = True\n",
    "\n",
    "# Drop the 'day_of_week' column\n",
    "pdf.drop(columns=['day_of_week'], inplace=True)"
   ]
  },
  {
   "cell_type": "code",
   "execution_count": 20,
   "id": "d3109f16",
   "metadata": {},
   "outputs": [
    {
     "name": "stdout",
     "output_type": "stream",
     "text": [
      "   working_hours_start  working_hours_end  specialization_Cardiologist  \\\n",
      "0              32400.0            50200.0                        False   \n",
      "\n",
      "   specialization_Dentist  specialization_Dermatologist  \\\n",
      "0                   False                         False   \n",
      "\n",
      "   specialization_ENT Specialist  specialization_Gastroenterologist  \\\n",
      "0                          False                              False   \n",
      "\n",
      "   specialization_Neurologist  specialization_Ophthalmologist  \\\n",
      "0                       False                           False   \n",
      "\n",
      "   specialization_Orthopedic Surgeon  ...  specialization_Rheumatologist  \\\n",
      "0                              False  ...                          False   \n",
      "\n",
      "   specialization_Surgeon  specialization_Urologist  Monday  Tuesday  \\\n",
      "0                    True                     False    True    False   \n",
      "\n",
      "   Wednesday  Thursday  Friday  Saturday  Sunday  \n",
      "0      False     False   False     False   False  \n",
      "\n",
      "[1 rows x 22 columns]\n"
     ]
    }
   ],
   "source": [
    "print(pdf)"
   ]
  },
  {
   "cell_type": "code",
   "execution_count": 21,
   "id": "2a6ece48",
   "metadata": {},
   "outputs": [
    {
     "name": "stdout",
     "output_type": "stream",
     "text": [
      "[ True]\n"
     ]
    }
   ],
   "source": [
    "predictions = model.predict(pdf)\n",
    "print(predictions)"
   ]
  },
  {
   "cell_type": "code",
   "execution_count": 22,
   "id": "2fc2a38e",
   "metadata": {},
   "outputs": [
    {
     "name": "stdout",
     "output_type": "stream",
     "text": [
      "[{'UID': 123, 'name': 'Hrishit', 'specialization': 'Surgeon', 'working_hours_start': '9:00', 'working_hours_end': '14:00', 'week_offs': ['Tuesday'], 'availability_label': True}]\n"
     ]
    }
   ],
   "source": [
    "true_predictions = [doctor for doctor, is_true in zip(physician_data, predictions) if is_true]\n",
    "print(true_predictions)"
   ]
  },
  {
   "cell_type": "code",
   "execution_count": null,
   "id": "6b7b6b81",
   "metadata": {},
   "outputs": [],
   "source": []
  }
 ],
 "metadata": {
  "kernelspec": {
   "display_name": "Python 3 (ipykernel)",
   "language": "python",
   "name": "python3"
  },
  "language_info": {
   "codemirror_mode": {
    "name": "ipython",
    "version": 3
   },
   "file_extension": ".py",
   "mimetype": "text/x-python",
   "name": "python",
   "nbconvert_exporter": "python",
   "pygments_lexer": "ipython3",
   "version": "3.11.4"
  }
 },
 "nbformat": 4,
 "nbformat_minor": 5
}
